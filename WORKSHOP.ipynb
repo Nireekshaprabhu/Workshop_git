{
 "cells": [
  {
   "cell_type": "code",
   "execution_count": 1,
   "id": "9e375599",
   "metadata": {},
   "outputs": [
    {
     "name": "stdout",
     "output_type": "stream",
     "text": [
      "enter the namenireeksha\n"
     ]
    }
   ],
   "source": [
    "a= input(\"enter the name\")"
   ]
  },
  {
   "cell_type": "code",
   "execution_count": 7,
   "id": "e5ad9e77",
   "metadata": {},
   "outputs": [
    {
     "name": "stdout",
     "output_type": "stream",
     "text": [
      "enter number1\n",
      "true\n"
     ]
    }
   ],
   "source": [
    "a=int(input(\"enter number\"))\n",
    "if(a==1):\n",
    "    print(\"true\")\n",
    "else:\n",
    "    print(\"false\")"
   ]
  },
  {
   "cell_type": "code",
   "execution_count": 10,
   "id": "3e59fff1",
   "metadata": {},
   "outputs": [
    {
     "name": "stdout",
     "output_type": "stream",
     "text": [
      "enter number1\n",
      "enter number2\n",
      "enter operator+\n",
      "result 3\n"
     ]
    }
   ],
   "source": [
    "a=int(input(\"enter number\"))\n",
    "b=int(input(\"enter number\"))\n",
    "c=input(\"enter operator\")\n",
    "if c== '+':\n",
    "    print(\"result\",a+b)\n",
    "elif c=='-':\n",
    "    print(\"result\",a-b)\n",
    "elif c=='*':\n",
    "    print(\"result\",a*b)\n",
    "elif c=='%':\n",
    "    print(\"result\",a%b)\n",
    "else:\n",
    "    print(\"invalid\")\n",
    " "
   ]
  },
  {
   "cell_type": "code",
   "execution_count": 11,
   "id": "4da2982c",
   "metadata": {},
   "outputs": [
    {
     "name": "stdout",
     "output_type": "stream",
     "text": [
      "sub of10 and 1 is 9\n"
     ]
    }
   ],
   "source": [
    "a=10\n",
    "b=1\n",
    "print(f\"sub of{a} and {b} is {a-b}\")"
   ]
  },
  {
   "cell_type": "code",
   "execution_count": null,
   "id": "ee996767",
   "metadata": {},
   "outputs": [],
   "source": []
  }
 ],
 "metadata": {
  "kernelspec": {
   "display_name": "Python 3 (ipykernel)",
   "language": "python",
   "name": "python3"
  },
  "language_info": {
   "codemirror_mode": {
    "name": "ipython",
    "version": 3
   },
   "file_extension": ".py",
   "mimetype": "text/x-python",
   "name": "python",
   "nbconvert_exporter": "python",
   "pygments_lexer": "ipython3",
   "version": "3.9.13"
  }
 },
 "nbformat": 4,
 "nbformat_minor": 5
}
